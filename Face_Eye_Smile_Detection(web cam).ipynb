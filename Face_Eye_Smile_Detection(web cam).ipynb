{
 "cells": [
  {
   "cell_type": "code",
   "execution_count": 22,
   "metadata": {},
   "outputs": [],
   "source": [
    "import cv2\n",
    "import numpy as np"
   ]
  },
  {
   "cell_type": "code",
   "execution_count": 23,
   "metadata": {
    "scrolled": true
   },
   "outputs": [],
   "source": [
    "cap=cv2.VideoCapture(0)\n",
    "facedetect=cv2.CascadeClassifier('/home/amin/opencv/data/haarcascades/haarcascade_frontalface_default.xml')\n",
    "eyedetect=cv2.CascadeClassifier('/home/amin/opencv/data/haarcascades/haarcascade_eye.xml')\n",
    "smiledetect=cv2.CascadeClassifier('/home/amin/opencv/data/haarcascades/haarcascade_smile.xml')\n",
    "while True:\n",
    "    ret, frame = cap.read();\n",
    "    gray=cv2.cvtColor(frame,cv2.COLOR_BGR2GRAY)\n",
    "    faces=facedetect.detectMultiScale(frame,1.3,5)\n",
    "    count=0\n",
    "    for (x,y,w,h) in faces:\n",
    "        cv2.rectangle(frame,(x,y),(x+w,y+h),(255,0,0),2)\n",
    "        roi_gray=gray[y:y+h, x:x+h]\n",
    "        roi_color=frame[y:y+h, x:x+h]\n",
    "        eyes=eyedetect.detectMultiScale(roi_gray)\n",
    "        for(ex,ey,ew,eh) in eyes:\n",
    "            cv2.rectangle(roi_color,(ex,ey),(ex+ew,ey+eh),(0,255,0),2)\n",
    "            smile=smiledetect.detectMultiScale(roi_gray)\n",
    "            for(sx,sy,sw,sh) in smile:\n",
    "                cv2.rectangle(roi_color,(sx,sy),(sx+sw,sy+sh),(0,0,255),2)\n",
    "                    \n",
    "    cv2.imshow('frame',frame)\n",
    "    #cv2.imshow('gray',gray)\n",
    "    if cv2.waitKey(30)==ord('q'):\n",
    "        break\n",
    "cap.release()\n",
    "cv2.destroyAllWindows()"
   ]
  },
  {
   "cell_type": "code",
   "execution_count": null,
   "metadata": {},
   "outputs": [],
   "source": []
  }
 ],
 "metadata": {
  "kernelspec": {
   "display_name": "Python 3",
   "language": "python",
   "name": "python3"
  },
  "language_info": {
   "codemirror_mode": {
    "name": "ipython",
    "version": 3
   },
   "file_extension": ".py",
   "mimetype": "text/x-python",
   "name": "python",
   "nbconvert_exporter": "python",
   "pygments_lexer": "ipython3",
   "version": "3.6.5"
  }
 },
 "nbformat": 4,
 "nbformat_minor": 2
}
